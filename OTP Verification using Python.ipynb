{
 "cells": [
  {
   "cell_type": "markdown",
   "id": "e7b661d3",
   "metadata": {},
   "source": [
    "<center>\n",
    "  <h1 style=\"background-color:purple; color:white; font-size:40px; font-weight:bold; font-family:Times New Roman; border:2px solid black;\">OTP VERIFICATION</h1>\n",
    "</center>"
   ]
  },
  {
   "cell_type": "markdown",
   "id": "ac58e68a",
   "metadata": {},
   "source": [
    "<center>\n",
    "  <h1 style=\" color:black; font-size:40px; font-weight:bold; font-family:Times New Roman; border:2px solid black;\">1. Import the required libraries:</h1>\n",
    "</center>"
   ]
  },
  {
   "cell_type": "code",
   "execution_count": 1,
   "id": "f2dffe51",
   "metadata": {},
   "outputs": [],
   "source": [
    "import random\n",
    "import smtplib\n",
    "from email.mime.text import MIMEText\n"
   ]
  },
  {
   "cell_type": "markdown",
   "id": "5dab1e9b",
   "metadata": {},
   "source": [
    "<center>\n",
    "  <h1 style=\" color:black; font-size:40px; font-weight:bold; font-family:Times New Roman; border:2px solid black;\">2. Generate a random 6-digit number:</h1>\n",
    "</center>"
   ]
  },
  {
   "cell_type": "code",
   "execution_count": 2,
   "id": "b8052396",
   "metadata": {},
   "outputs": [],
   "source": [
    "def generate_otp():\n",
    "    return str(random.randint(100000, 999999))\n"
   ]
  },
  {
   "cell_type": "markdown",
   "id": "3e8c69b2",
   "metadata": {},
   "source": [
    "<center>\n",
    "  <h1 style=\" color:black; font-size:40px; font-weight:bold; font-family:Times New Roman; border:2px solid black;\">3. Send the OTP via email:</h1>\n",
    "</center>"
   ]
  },
  {
   "cell_type": "code",
   "execution_count": 3,
   "id": "9031f73c",
   "metadata": {},
   "outputs": [],
   "source": [
    "def send_otp_email(receiver_email, otp):\n",
    "    sender_email = \"your_email@example.com\"  # Replace with your email address\n",
    "    password = \"your_email_password\"  # Replace with your email password\n",
    "\n",
    "    message = f\"Your OTP is: {otp}\"\n",
    "\n",
    "    msg = MIMEText(message)\n",
    "    msg[\"Subject\"] = \"OTP Verification\"\n",
    "    msg[\"From\"] = sender_email\n",
    "    msg[\"To\"] = receiver_email\n",
    "\n",
    "    try:\n",
    "        with smtplib.SMTP(\"smtp.gmail.com\", 587) as server:\n",
    "            server.starttls()\n",
    "            server.login(sender_email, password)\n",
    "            server.sendmail(sender_email, receiver_email, msg.as_string())\n",
    "            print(\"OTP sent successfully.\")\n",
    "    except Exception as e:\n",
    "        print(f\"Error occurred while sending OTP: {e}\")\n"
   ]
  },
  {
   "cell_type": "markdown",
   "id": "6b44c0dd",
   "metadata": {},
   "source": [
    "<center>\n",
    "  <h1 style=\" color:black; font-size:40px; font-weight:bold; font-family:Times New Roman; border:2px solid black;\">4. Main function to request user email and verify OTP:</h1>\n",
    "</center>"
   ]
  },
  {
   "cell_type": "code",
   "execution_count": 4,
   "id": "b4a6d6fa",
   "metadata": {},
   "outputs": [
    {
     "name": "stdout",
     "output_type": "stream",
     "text": [
      "Enter your email address: sanjanachaudhari7828@gmail.com\n",
      "Generated OTP: 720499\n",
      "Error occurred while sending OTP: (535, b'5.7.8 Username and Password not accepted. Learn more at\\n5.7.8  https://support.google.com/mail/?p=BadCredentials y9-20020aa78549000000b00666e649ca46sm5080190pfn.101 - gsmtp')\n",
      "Enter the OTP you received: 720499\n",
      "OTP verified successfully.\n"
     ]
    }
   ],
   "source": [
    "def main():\n",
    "    receiver_email = input(\"Enter your email address: \")\n",
    "\n",
    "    otp = generate_otp()\n",
    "    print(f\"Generated OTP: {otp}\")\n",
    "\n",
    "    send_otp_email(receiver_email, otp)\n",
    "\n",
    "    user_input_otp = input(\"Enter the OTP you received: \")\n",
    "\n",
    "    if user_input_otp == otp:\n",
    "        print(\"OTP verified successfully.\")\n",
    "    else:\n",
    "        print(\"Incorrect OTP. Verification failed.\")\n",
    "\n",
    "if __name__ == \"__main__\":\n",
    "    main()\n"
   ]
  },
  {
   "cell_type": "code",
   "execution_count": null,
   "id": "b7c7ad24",
   "metadata": {},
   "outputs": [],
   "source": []
  }
 ],
 "metadata": {
  "kernelspec": {
   "display_name": "Python 3 (ipykernel)",
   "language": "python",
   "name": "python3"
  },
  "language_info": {
   "codemirror_mode": {
    "name": "ipython",
    "version": 3
   },
   "file_extension": ".py",
   "mimetype": "text/x-python",
   "name": "python",
   "nbconvert_exporter": "python",
   "pygments_lexer": "ipython3",
   "version": "3.10.9"
  },
  "varInspector": {
   "cols": {
    "lenName": 16,
    "lenType": 16,
    "lenVar": 40
   },
   "kernels_config": {
    "python": {
     "delete_cmd_postfix": "",
     "delete_cmd_prefix": "del ",
     "library": "var_list.py",
     "varRefreshCmd": "print(var_dic_list())"
    },
    "r": {
     "delete_cmd_postfix": ") ",
     "delete_cmd_prefix": "rm(",
     "library": "var_list.r",
     "varRefreshCmd": "cat(var_dic_list()) "
    }
   },
   "types_to_exclude": [
    "module",
    "function",
    "builtin_function_or_method",
    "instance",
    "_Feature"
   ],
   "window_display": false
  }
 },
 "nbformat": 4,
 "nbformat_minor": 5
}
